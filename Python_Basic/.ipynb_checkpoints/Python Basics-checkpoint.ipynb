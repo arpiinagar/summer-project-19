{
 "cells": [
  {
   "cell_type": "markdown",
   "metadata": {},
   "source": [
    "# INTRODUCTION TO PYTHON"
   ]
  },
  {
   "cell_type": "markdown",
   "metadata": {},
   "source": [
    "### This is only a introduction you can skip this section if you are well versed in python."
   ]
  },
  {
   "cell_type": "markdown",
   "metadata": {},
   "source": [
    "## VARIABLES\n",
    " Variables are nothing but reserved memory locations to store values. This means that when you create a variable you reserve some space in memory.Based on the data type of a variable, the interpreter allocates memory and decides what can be stored in the reserved memory. Therefore, by assigning different data types to variables, you can store integers, decimals or characters etc.\n",
    "eg int a;  This stores 4 byte in memory for storing some integer and names the place with the identifier a. "
   ]
  },
  {
   "cell_type": "markdown",
   "metadata": {},
   "source": [
    " In python we dont need to specify the type of the variable they are automatically assigned by the python compiler.\n"
   ]
  },
  {
   "cell_type": "markdown",
   "metadata": {},
   "source": [
    "\n",
    "to print anything on the screen(console) we use print in python its used to print anything."
   ]
  },
  {
   "cell_type": "code",
   "execution_count": 37,
   "metadata": {},
   "outputs": [
    {
     "name": "stdout",
     "output_type": "stream",
     "text": [
      "10\n"
     ]
    }
   ],
   "source": [
    "#eg \n",
    "print(10)"
   ]
  },
  {
   "cell_type": "markdown",
   "metadata": {},
   "source": [
    "#### type examples"
   ]
  },
  {
   "cell_type": "code",
   "execution_count": 39,
   "metadata": {},
   "outputs": [
    {
     "name": "stdout",
     "output_type": "stream",
     "text": [
      "10\n",
      "<class 'int'>\n",
      "29.2\n",
      "<class 'float'>\n",
      "hello\n",
      "<class 'str'>\n"
     ]
    }
   ],
   "source": [
    "#Eg\n",
    "a = 10\n",
    "print(a)\n",
    "print(type(a))\n",
    "b=29.2\n",
    "print(b)\n",
    "print(type(b))\n",
    "c=\"hello\"\n",
    "print(c)\n",
    "print(type(c))\n",
    "\n",
    "#type function tells us the type of the variable we see that even though we didnt assign any type to the variable a \n",
    "#its automatically assigned as int \n"
   ]
  },
  {
   "cell_type": "code",
   "execution_count": 17,
   "metadata": {
    "collapsed": true
   },
   "outputs": [],
   "source": [
    "#try here for other variables and look into thier types\n",
    "\n"
   ]
  },
  {
   "cell_type": "markdown",
   "metadata": {},
   "source": [
    "# List \n",
    " In conventional programming languages we have array which are continious memory location of a single type of variable. eg int arr[10]  // this allocates 10 integer in continous memory location.\n",
    " The most basic data structure in Python is the sequence. Each element of a sequence is assigned a number - its position or index. The first index is zero, the second index is one, and so forth.Python has six built-in types of sequences, but the most common ones are lists and tuples.\n",
    " each element of the list can be referenced by the its index."
   ]
  },
  {
   "cell_type": "code",
   "execution_count": 24,
   "metadata": {},
   "outputs": [
    {
     "name": "stdout",
     "output_type": "stream",
     "text": [
      "accessing first element element is-1\n",
      "\n",
      "accessing second element element is-hello\n",
      "\n",
      "previous list [1, 2, 'hello', 3, 'world'] \n",
      "\n",
      "newly appended list [1, 2, 'hello', 3, 'world', 10] \n",
      "\n",
      "6\n",
      "8\n",
      "1\n"
     ]
    }
   ],
   "source": [
    "#list examples\n",
    "\n",
    "l=[] #syntax for list is []\n",
    "l=[1,2,\"hello\",3,\"world\"]  #list can store any type of data.They need not to be of same type.\n",
    "\n",
    "print(\"accessing first element element is-{}\\n\".format(l[0]))#to access a element in the list we need the index of that element.\n",
    "print(\"accessing second element element is-{}\\n\".format(l[2]))\n",
    "\n",
    "\n",
    "\n",
    "#some common list operation\n",
    "\n",
    "#append- puts a item to the end of a list\n",
    "print(\"previous list {} \\n\".format(l))\n",
    "\n",
    "l.append(10) #puts 10 at the end of the list\n",
    "\n",
    "\n",
    "print(\"newly appended list {} \\n\".format(l))\n",
    "\n",
    "#len-returns length of the list\n",
    "print(len(l))\n",
    "\n",
    "#max-returns the maximum element of the list,min-returns minimum element of the list\n",
    "#max operator cannot work on this list as their is a string and number and it cannot compare between them\n",
    "# lets take a new list to understand better\n",
    "\n",
    "l1=[1,3,2,4,8,5,6]  #max is 8 and min is 1\n",
    "\n",
    "print(max(l1)) #prints 8\n",
    "print(min(l1)) #prints 1\n",
    "\n",
    "\n",
    "\n"
   ]
  },
  {
   "cell_type": "markdown",
   "metadata": {},
   "source": [
    "### we will look into list again for the timming lets move on to other fundamental concepts"
   ]
  },
  {
   "cell_type": "markdown",
   "metadata": {},
   "source": [
    "<br>\n",
    "# Arithmetic Operation in Python\n",
    "<br>\n",
    "<img src=\"hello1.jpeg\">"
   ]
  },
  {
   "cell_type": "code",
   "execution_count": 25,
   "metadata": {},
   "outputs": [
    {
     "name": "stdout",
     "output_type": "stream",
     "text": [
      "25\n",
      "15\n",
      "100\n",
      "4.0\n",
      "0\n",
      "400\n",
      "6\n"
     ]
    }
   ],
   "source": [
    "#code example\n",
    "\n",
    "a=20\n",
    "b=5\n",
    "\n",
    "print(a+b) #25\n",
    "print(a-b) #15\n",
    "print(a*b) #100\n",
    "print(a/b) #4 this returns float result\n",
    "print(a%b) # % is remainder operator\n",
    "print(a**2) # returns a^2 \n",
    "print(a//3) #returns integer divison floor result"
   ]
  },
  {
   "cell_type": "markdown",
   "metadata": {},
   "source": [
    "# logical Operator \n",
    "<br>\n",
    "\n",
    "<img src=\"p1.png\">"
   ]
  },
  {
   "cell_type": "code",
   "execution_count": 26,
   "metadata": {},
   "outputs": [
    {
     "name": "stdout",
     "output_type": "stream",
     "text": [
      "False\n",
      "True\n",
      "False\n",
      "True\n",
      "True\n"
     ]
    }
   ],
   "source": [
    "a=10\n",
    "b=20\n",
    "\n",
    "print(a==b)\n",
    "print(a!=b)\n",
    "print(a>b)\n",
    "print(a<b)\n",
    "print(a<=10)"
   ]
  },
  {
   "cell_type": "markdown",
   "metadata": {},
   "source": [
    "### and - compares the logical and of 2 expression\n",
    "### or - compares the logical or of 2 expression"
   ]
  },
  {
   "cell_type": "code",
   "execution_count": 43,
   "metadata": {},
   "outputs": [
    {
     "name": "stdout",
     "output_type": "stream",
     "text": [
      "False\n",
      "True\n"
     ]
    }
   ],
   "source": [
    "print(a==b and a!=b)\n",
    "print(a==b or a!=b)"
   ]
  },
  {
   "cell_type": "markdown",
   "metadata": {},
   "source": [
    "# Conditional decision making in python(if else)\n",
    "#### 3 type\n",
    "#### 1) if else\n",
    "#### 2) if el if else"
   ]
  },
  {
   "cell_type": "markdown",
   "metadata": {},
   "source": [
    "<br>\n",
    " 1) if else- The if block executes if the condition specified inside the if block is true otherwise the else block is executed.In Python the scope of the block is determined by identation\n",
    " meaning that how much part of the code is inside the if block is determined by the code the identation of the code below if block if its indented then its inside if otherwise its not inside the if block and the end of the if block\n",
    "\n",
    " c or c++ or java syntax:\n",
    "  if(condition){\n",
    "        code inside block\n",
    "   }\n"
   ]
  },
  {
   "cell_type": "code",
   "execution_count": 41,
   "metadata": {},
   "outputs": [
    {
     "name": "stdout",
     "output_type": "stream",
     "text": [
      "if\n"
     ]
    }
   ],
   "source": [
    "#EXAMPLE FOR PYTHON IF ELSE\n",
    "a=20\n",
    "b=10\n",
    "\n",
    "if a+b==30:\n",
    "    print(\"if\")\n",
    "else:\n",
    "    print(\"no\")\n"
   ]
  },
  {
   "cell_type": "markdown",
   "metadata": {},
   "source": [
    "## Task1:\n",
    "#### Now a simple task for you guys write a python code to find the 2nd largest of 4 numbers.No need to take input from user you can hardcode the values into 4 variables and push this task and a python notebook or as a python file into your github branch of ml for this task."
   ]
  },
  {
   "cell_type": "markdown",
   "metadata": {},
   "source": [
    "<br>\n",
    "\n",
    "some example if else codes"
   ]
  },
  {
   "cell_type": "code",
   "execution_count": 45,
   "metadata": {},
   "outputs": [
    {
     "name": "stdout",
     "output_type": "stream",
     "text": [
      "hello\n",
      "15\n"
     ]
    }
   ],
   "source": [
    "a=10\n",
    "b=20\n",
    "c=30\n",
    "\n",
    "if a==10:\n",
    "    print(\"hello\")\n",
    "    a=a+5\n",
    "else:\n",
    "    print(\"hello2\")\n",
    "\n",
    "print(a)"
   ]
  },
  {
   "cell_type": "markdown",
   "metadata": {},
   "source": [
    "## 2) The elif Statement\n",
    "\n",
    " The elif statement allows you to check multiple expressions for TRUE and execute a block of code as soon as one of the conditions evaluates to TRUE.\n",
    "\n",
    " Similar to the else, the elif statement is optional. However, unlike else, for which there can be at most one statement, there can be an arbitrary number of elif statements following an if."
   ]
  },
  {
   "cell_type": "code",
   "execution_count": null,
   "metadata": {
    "collapsed": true
   },
   "outputs": [],
   "source": [
    "'''\n",
    "if expression1:\n",
    "   statement(s)\n",
    "elif expression2:\n",
    "   statement(s)\n",
    "elif expression3:\n",
    "   statement(s)\n",
    "else:\n",
    "   statement(s)\n",
    "'''"
   ]
  },
  {
   "cell_type": "code",
   "execution_count": 49,
   "metadata": {},
   "outputs": [
    {
     "name": "stdout",
     "output_type": "stream",
     "text": [
      "3 - Got a true expression value\n",
      "100\n",
      "Good bye!\n"
     ]
    }
   ],
   "source": [
    "#EXAMPLE\n",
    "var = 100\n",
    "if var == 200:\n",
    "    print(\"1 - Got a true expression value\")\n",
    "    print(var)\n",
    "elif var == 150:\n",
    "    print(\"2 - Got a true expression value\")\n",
    "    print(var)\n",
    "elif var == 100:\n",
    "    print(\"3 - Got a true expression value\")\n",
    "    print(var)\n",
    "else:\n",
    "    print(\"4 - Got a false expression value\")\n",
    "    print(var)\n",
    "\n",
    "print(\"Good bye!\")"
   ]
  },
  {
   "cell_type": "markdown",
   "metadata": {},
   "source": [
    "<br>\n",
    "<br>\n",
    "# LOOPS"
   ]
  },
  {
   "cell_type": "markdown",
   "metadata": {},
   "source": [
    " In general, statements are executed sequentially: The first statement in a function is executed first, followed by the second, and so on. There may be a situation when you need to execute a block of code several number of times.\n",
    " Programming languages provide various control structures that allow for more complicated execution paths.\n",
    " A loop statement allows us to execute a statement or group of statements multiple times. "
   ]
  },
  {
   "cell_type": "markdown",
   "metadata": {},
   "source": [
    "#### we will use loops and list together to understand the concept of loop in python"
   ]
  },
  {
   "cell_type": "code",
   "execution_count": 50,
   "metadata": {},
   "outputs": [
    {
     "name": "stdout",
     "output_type": "stream",
     "text": [
      "[1, 2, 'hello', 3, 'world', 10]\n"
     ]
    }
   ],
   "source": [
    "print(l)"
   ]
  },
  {
   "cell_type": "code",
   "execution_count": 51,
   "metadata": {},
   "outputs": [
    {
     "name": "stdout",
     "output_type": "stream",
     "text": [
      "1\n",
      "2\n",
      "hello\n",
      "3\n",
      "world\n",
      "10\n"
     ]
    }
   ],
   "source": [
    "for i in l:\n",
    "    print(i)"
   ]
  },
  {
   "cell_type": "markdown",
   "metadata": {},
   "source": [
    "#### for loop-we use 2 ways to iterate over for loop one is by value in list other is by index"
   ]
  },
  {
   "cell_type": "markdown",
   "metadata": {},
   "source": [
    "#### The above example uses value wise the variable i is given the values of each item in the list in each iteration of the loop in sequence order.We will see examples where this is a very powerful way of iterating."
   ]
  },
  {
   "cell_type": "markdown",
   "metadata": {},
   "source": [
    "<br>\n",
    " Another way is to use the index of each element and refer to that element by index.Earlier it was mentioned that each element has a index in the list which starts from 0                                                                                                so for the list l=[1,2,\"hello\",3,\"world,10]                                                                                                                                      <br>\n",
    " index of the element 1 is 0\n",
    " index of of the element 2 is 1 and so on..."
   ]
  },
  {
   "cell_type": "markdown",
   "metadata": {},
   "source": [
    " so we can iterate as we saw above we can move to any index of the list by specifying its index like l[index]"
   ]
  },
  {
   "cell_type": "markdown",
   "metadata": {},
   "source": [
    "<br>\n",
    "\n",
    "##### range function it generates a list range(n) - [0,1,2,3,4......n-1] \n",
    "##### range(a,b) generates a list from a to b-1 range(0,n)-[0,1,2,....n-1]\n",
    "##### range(a,b,c) generates a list from a to b with jump of c range(0,10,2)-[0,2,4,8]\n",
    "\n",
    "##### we iterate over this range and then refer to our index"
   ]
  },
  {
   "cell_type": "code",
   "execution_count": 2,
   "metadata": {},
   "outputs": [],
   "source": [
    "l=[\"hello\",\"hi\",1,2,\"bye\"]\n"
   ]
  },
  {
   "cell_type": "code",
   "execution_count": 56,
   "metadata": {},
   "outputs": [
    {
     "name": "stdout",
     "output_type": "stream",
     "text": [
      "hello\n",
      "hi\n",
      "1\n",
      "2\n",
      "bye\n"
     ]
    }
   ],
   "source": [
    "for i in range(len(l)):\n",
    "    print(l[i])"
   ]
  },
  {
   "cell_type": "markdown",
   "metadata": {},
   "source": [
    "<br>\n",
    "### some examples to understand better"
   ]
  },
  {
   "cell_type": "code",
   "execution_count": 65,
   "metadata": {},
   "outputs": [
    {
     "name": "stdout",
     "output_type": "stream",
     "text": [
      "first example\n",
      "0\n",
      "1\n",
      "2\n",
      "3\n",
      "4\n",
      "\n",
      "2nd example\n",
      "hello\n",
      "1\n",
      "2\n",
      "3\n",
      "4\n",
      "\n",
      "third example\n",
      "h\n",
      "e\n",
      "l\n",
      "l\n",
      "o\n",
      "h\n",
      "i\n",
      "g\n",
      "g\n"
     ]
    }
   ],
   "source": [
    "ex1=[\"hello\",1,2,3,4]\n",
    "print(\"first example\")\n",
    "for i in range(len(ex1)):\n",
    "    print(i)\n",
    "\n",
    "print(\"\\n2nd example\")\n",
    "for i in ex1:\n",
    "    print(i)\n",
    "\n",
    "print(\"\\nthird example\")\n",
    "ex2=[\"hello\",\"hi\",\"gg\"] \n",
    "\n",
    "for i in ex2:\n",
    "    for j in i:                 # each i itself can be thought of a list of charecters so\n",
    "        print(j)"
   ]
  },
  {
   "cell_type": "markdown",
   "metadata": {},
   "source": [
    "<br>\n",
    "# Conclusion\n",
    "#### These are some fundamentals of python but this is just a very light overview for further understanding of the language keep coding in it\n",
    "#### Input output in python will taught once you have completed this\n",
    "\n",
    "#### final task is to understand the above concept and use them to write 2 codes\n",
    "#### 1) generate a list of first n=100 natural numbers and then find all prime numbers and store them in another list and print this list alternate index\n",
    "#### 2)learn more about list and write a code to use nested list l=[[1,2,3],[3,4,6],[5,6,7]] "
   ]
  },
  {
   "cell_type": "code",
   "execution_count": null,
   "metadata": {
    "collapsed": true
   },
   "outputs": [],
   "source": []
  }
 ],
 "metadata": {
  "kernelspec": {
   "display_name": "Python 3",
   "language": "python",
   "name": "python3"
  },
  "language_info": {
   "codemirror_mode": {
    "name": "ipython",
    "version": 3
   },
   "file_extension": ".py",
   "mimetype": "text/x-python",
   "name": "python",
   "nbconvert_exporter": "python",
   "pygments_lexer": "ipython3",
   "version": "3.6.6"
  }
 },
 "nbformat": 4,
 "nbformat_minor": 2
}
